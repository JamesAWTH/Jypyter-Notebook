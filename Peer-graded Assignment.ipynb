{
 "cells": [
  {
   "cell_type": "markdown",
   "id": "04b73538-3f00-43c5-90ec-f9b5095aed3b",
   "metadata": {},
   "source": [
    "# My Jupyter Notebook on IBM Watson Studio"
   ]
  },
  {
   "cell_type": "markdown",
   "id": "d8a266a7-788b-49a2-96c6-c3e7d569c9d8",
   "metadata": {},
   "source": [
    "**Apisit Wanwichet**"
   ]
  },
  {
   "cell_type": "markdown",
   "id": "618aa464-b945-4307-a9cd-ebfe8768f58a",
   "metadata": {},
   "source": [
    "Data Scientist"
   ]
  },
  {
   "cell_type": "markdown",
   "id": "df6e3ea0-8e48-4f8a-8f0b-0af95f4333a7",
   "metadata": {},
   "source": [
    "*I am interested in data science because I think data will be the most important thing in a near future and I want to code so I can do my jobs wherever I want*"
   ]
  },
  {
   "cell_type": "markdown",
   "id": "1a946cd4-f7ac-452a-b42e-baaaac8b74d3",
   "metadata": {},
   "source": [
    "### The following code will generate a result from 2 + 2 equation"
   ]
  },
  {
   "cell_type": "code",
   "execution_count": 5,
   "id": "ec938176-7134-43b6-9130-2e83674afe9e",
   "metadata": {},
   "outputs": [
    {
     "name": "stdout",
     "output_type": "stream",
     "text": [
      "4\n"
     ]
    }
   ],
   "source": [
    "a = 2\n",
    "b = 2\n",
    "print(a+b)"
   ]
  },
  {
   "cell_type": "markdown",
   "id": "e50d2b1c-4ece-4449-88e5-c8ea3a16b2cf",
   "metadata": {},
   "source": [
    "What do I want to improve?"
   ]
  },
  {
   "cell_type": "markdown",
   "id": "2b887845-9e1d-4e7a-8d24-3d3d538b96ab",
   "metadata": {},
   "source": [
    "---"
   ]
  },
  {
   "cell_type": "markdown",
   "id": "b8a2c0ec-cfb1-4ab0-aae9-247078ebd990",
   "metadata": {},
   "source": [
    "1. Be able to study long period of time"
   ]
  },
  {
   "cell_type": "markdown",
   "id": "cf0b5396-6083-4c15-ab2e-01272e2c8ea1",
   "metadata": {},
   "source": [
    "2. Be disciplined "
   ]
  },
  {
   "cell_type": "markdown",
   "id": "c83e2862-a945-4455-9917-3e81faf45430",
   "metadata": {},
   "source": [
    "3. Be honest to myself"
   ]
  },
  {
   "cell_type": "markdown",
   "id": "32bf7970-ded8-4e87-8787-85e784301121",
   "metadata": {},
   "source": [
    "---"
   ]
  },
  {
   "cell_type": "markdown",
   "id": "c1d5d3bc-ada4-4e8c-842f-681017cb4f70",
   "metadata": {},
   "source": [
    "* I want to be like Kobe Bryant "
   ]
  },
  {
   "cell_type": "code",
   "execution_count": null,
   "id": "d0b2852e-c110-4bc9-bd7f-77b423daab4b",
   "metadata": {},
   "outputs": [],
   "source": []
  }
 ],
 "metadata": {
  "kernelspec": {
   "display_name": "Python",
   "language": "python",
   "name": "conda-env-python-py"
  },
  "language_info": {
   "codemirror_mode": {
    "name": "ipython",
    "version": 3
   },
   "file_extension": ".py",
   "mimetype": "text/x-python",
   "name": "python",
   "nbconvert_exporter": "python",
   "pygments_lexer": "ipython3",
   "version": "3.7.12"
  }
 },
 "nbformat": 4,
 "nbformat_minor": 5
}
